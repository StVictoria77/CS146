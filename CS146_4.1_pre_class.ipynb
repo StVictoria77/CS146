{
 "cells": [
  {
   "cell_type": "markdown",
   "metadata": {},
   "source": [
    "As mentioned, there are few hyperparameters we are interested in.\n",
    "\n",
    "For each of them, I will take a formula from the Wikipedia page, write a constrain, substitute name of the parameter with x[relevant_index] and add them to the function for the minimization.\n",
    "\n",
    "1. Mean: \"The mean of the data is approximately 2.3 ± 0.5\". For this distribution, mu_0 is just equal mu_0, with no other parameters involved. It means that the mu_0 must be constrained to (mu_0 - 2.3)^2 to minimize the sum of squared residuals.  Hence, mu_0 = x[0], and the term (x[0] - 2.3)^2  is the first in the function.\n",
    "2. Variance of mean: \"The mean of the data is approximately 2.3 ± 0.5\". The variance of mean for this distribution is defined as beta/(alpha - 1), so our constraint is (beta/(alpha - 1) - 0.5)^2. If we define alpha_0 = x[1], beta_0 = x[2], then the next term of the function will be (x[2]/(x[1] - 1) - 0.5)^2.\n",
    "3. Variance of data: \"The variance of the data is approximately 2.75 ± 1.\". For this distribution, the variance of the data is defined as beta/(alpha - 1)lambda, where lambda is nu_0. So, if we define nu_0 = x[3], then our constraint will be (x[2]/(x[1] - 1)x[3] - 2.75)^2.\n",
    "4. Variance of the variance of data: \"The variance of the data is approximately 2.75 ± 1.\". For this distribution, it is defined as (beta^2)/((alpha - 1)^2(alpha - 2)). Hence, our final term will be ((x[2]^2)/((x[1] - 1)^2(x[1] - 2)) - 1)^2."
   ]
  },
  {
   "cell_type": "code",
   "execution_count": 12,
   "metadata": {},
   "outputs": [
    {
     "data": {
      "text/plain": [
       "array([ 2.30025119e+00, -5.26439141e+03, -1.49968240e+03,  9.65500723e+00])"
      ]
     },
     "execution_count": 12,
     "metadata": {},
     "output_type": "execute_result"
    }
   ],
   "source": [
    "from scipy.optimize import minimize\n",
    "import matplotlib.pyplot as plt\n",
    "import numpy as np\n",
    "\n",
    "def f(x):\n",
    "    return (x[0] - 2.3)**2 + (x[2]/(x[1] - 1) - 0.5)**2 + ((x[2])/(x[1] - 1)*x[3] - 2.75)**2 + ((x[2]**2)/(((x[1] - 1)**2)*(x[1] - 2)) - 1)**2\n",
    "\n",
    "x_inital = np.array([0, 0, 0, 0])\n",
    "result = minimize(f, x_inital)\n",
    "x_final = result.x\n",
    "x_final"
   ]
  }
 ],
 "metadata": {
  "kernelspec": {
   "display_name": "Python 3",
   "language": "python",
   "name": "python3"
  },
  "language_info": {
   "codemirror_mode": {
    "name": "ipython",
    "version": 3
   },
   "file_extension": ".py",
   "mimetype": "text/x-python",
   "name": "python",
   "nbconvert_exporter": "python",
   "pygments_lexer": "ipython3",
   "version": "3.8.5"
  }
 },
 "nbformat": 4,
 "nbformat_minor": 4
}
